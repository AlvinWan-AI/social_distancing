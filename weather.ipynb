{
 "cells": [
  {
   "cell_type": "code",
   "execution_count": 121,
   "metadata": {},
   "outputs": [],
   "source": [
    "import pandas as pd"
   ]
  },
  {
   "cell_type": "code",
   "execution_count": null,
   "metadata": {},
   "outputs": [],
   "source": []
  },
  {
   "cell_type": "code",
   "execution_count": null,
   "metadata": {},
   "outputs": [],
   "source": []
  },
  {
   "cell_type": "code",
   "execution_count": null,
   "metadata": {},
   "outputs": [],
   "source": []
  },
  {
   "cell_type": "code",
   "execution_count": 122,
   "metadata": {},
   "outputs": [],
   "source": [
    "def clean_weather(file):\n",
    "    df = pd.read_csv(file, encoding= 'unicode_escape')\n",
    "    df = df[['Station Name', \"Date/Time\", 'Max Temp (°C)', 'Min Temp (°C)', 'Mean Temp (°C)', 'Total Precip (mm)', 'Total Rain (mm)', 'Total Snow (cm)', 'Snow on Grnd (cm)']]\n",
    "    df.fillna(method='ffill', inplace = True)\n",
    "    return df"
   ]
  },
  {
   "cell_type": "code",
   "execution_count": 123,
   "metadata": {},
   "outputs": [],
   "source": [
    "def clean_weather1(file):\n",
    "    df = pd.read_csv(file, encoding= 'unicode_escape')\n",
    "    df = df[['Station Name', \"Date/Time\", 'Max Temp (Â°C)', 'Min Temp (Â°C)', 'Mean Temp (Â°C)', 'Total Precip (mm)', 'Total Rain (mm)', 'Total Snow (cm)', 'Snow on Grnd (cm)']]\n",
    "    df.fillna(method='ffill', inplace = True)\n",
    "    df.rename(columns={'Max Temp (Â°C)': 'Max Temp (°C)', 'Min Temp (Â°C)': 'Min Temp (°C)', 'Mean Temp (Â°C)': 'Mean Temp (°C)'}, inplace=True)\n",
    "    return df"
   ]
  },
  {
   "cell_type": "code",
   "execution_count": 124,
   "metadata": {},
   "outputs": [],
   "source": [
    "def clean_weather2(file):\n",
    "    df = pd.read_csv(file, encoding= 'unicode_escape')\n",
    "    df = df[['Station Name', \"Date/Time\", 'Max Temp (¢XC)', 'Min Temp (¢XC)', 'Mean Temp (¢XC)', 'Total Precip (mm)', 'Total Rain (mm)', 'Total Snow (cm)', 'Snow on Grnd (cm)']]\n",
    "    df.fillna(method='ffill', inplace = True)\n",
    "    df.rename(columns={'Max Temp (¢XC)': 'Max Temp (°C)', 'Min Temp (¢XC)': 'Min Temp (°C)', 'Mean Temp (¢XC)': 'Mean Temp (°C)'}, inplace=True)\n",
    "    return df"
   ]
  },
  {
   "cell_type": "code",
   "execution_count": 125,
   "metadata": {
    "scrolled": true
   },
   "outputs": [],
   "source": [
    "Hamilton = clean_weather2(\"data/Ontario_Hamilton_Weather.csv\")"
   ]
  },
  {
   "cell_type": "code",
   "execution_count": 126,
   "metadata": {
    "scrolled": true
   },
   "outputs": [],
   "source": [
    "Niagara = clean_weather1(\"data/Ontario_Niagara_Weather.csv\")"
   ]
  },
  {
   "cell_type": "code",
   "execution_count": 127,
   "metadata": {},
   "outputs": [],
   "source": [
    "Ottawa = clean_weather1(\"data/Ontario_Ottawa_Weather.csv\")"
   ]
  },
  {
   "cell_type": "code",
   "execution_count": 128,
   "metadata": {},
   "outputs": [],
   "source": [
    "Toronto = clean_weather1(\"data/Ontario_Toronto_Weather.csv\")"
   ]
  },
  {
   "cell_type": "code",
   "execution_count": 129,
   "metadata": {},
   "outputs": [],
   "source": [
    "Waterloo = clean_weather1(\"data/Ontario_Waterloo_Weather.csv\")"
   ]
  },
  {
   "cell_type": "code",
   "execution_count": 130,
   "metadata": {},
   "outputs": [],
   "source": [
    "union = pd.concat([Hamilton, Niagara, Ottawa, Toronto, Waterloo], ignore_index=True)"
   ]
  },
  {
   "cell_type": "code",
   "execution_count": 131,
   "metadata": {
    "scrolled": true
   },
   "outputs": [],
   "source": [
    "union.fillna(0, inplace=True)"
   ]
  },
  {
   "cell_type": "code",
   "execution_count": 132,
   "metadata": {
    "scrolled": true
   },
   "outputs": [
    {
     "data": {
      "text/plain": [
       "Station Name         0\n",
       "Date/Time            0\n",
       "Max Temp (°C)        0\n",
       "Min Temp (°C)        0\n",
       "Mean Temp (°C)       0\n",
       "Total Precip (mm)    0\n",
       "Total Rain (mm)      0\n",
       "Total Snow (cm)      0\n",
       "Snow on Grnd (cm)    0\n",
       "dtype: int64"
      ]
     },
     "execution_count": 132,
     "metadata": {},
     "output_type": "execute_result"
    }
   ],
   "source": [
    "union.isna().sum()"
   ]
  },
  {
   "cell_type": "code",
   "execution_count": 133,
   "metadata": {
    "scrolled": true
   },
   "outputs": [],
   "source": [
    "union.replace({'Station Name': {\"HAMILTON A\" : \"Hamilton\",  \"OTTAWA INTL A\": \"Ottawa\",  \"ST CATHARINES A\" : \"Niagara Falls\",\"TORONTO INTL A\" : \"Toronto\",  \"KITCHENER/WATERLOO\": \"Waterloo\"}}, inplace = True)"
   ]
  },
  {
   "cell_type": "code",
   "execution_count": 134,
   "metadata": {},
   "outputs": [],
   "source": [
    "union.to_csv('data/ON_weather.csv', index=False)  "
   ]
  },
  {
   "cell_type": "code",
   "execution_count": 135,
   "metadata": {},
   "outputs": [
    {
     "data": {
      "text/html": [
       "<div>\n",
       "<style scoped>\n",
       "    .dataframe tbody tr th:only-of-type {\n",
       "        vertical-align: middle;\n",
       "    }\n",
       "\n",
       "    .dataframe tbody tr th {\n",
       "        vertical-align: top;\n",
       "    }\n",
       "\n",
       "    .dataframe thead th {\n",
       "        text-align: right;\n",
       "    }\n",
       "</style>\n",
       "<table border=\"1\" class=\"dataframe\">\n",
       "  <thead>\n",
       "    <tr style=\"text-align: right;\">\n",
       "      <th></th>\n",
       "      <th>Station Name</th>\n",
       "      <th>Date/Time</th>\n",
       "      <th>Max Temp (°C)</th>\n",
       "      <th>Min Temp (°C)</th>\n",
       "      <th>Mean Temp (°C)</th>\n",
       "      <th>Total Precip (mm)</th>\n",
       "      <th>Total Rain (mm)</th>\n",
       "      <th>Total Snow (cm)</th>\n",
       "      <th>Snow on Grnd (cm)</th>\n",
       "    </tr>\n",
       "  </thead>\n",
       "  <tbody>\n",
       "    <tr>\n",
       "      <th>121</th>\n",
       "      <td>Hamilton</td>\n",
       "      <td>2020-05-01</td>\n",
       "      <td>16.2</td>\n",
       "      <td>7.1</td>\n",
       "      <td>11.7</td>\n",
       "      <td>0.8</td>\n",
       "      <td>0.8</td>\n",
       "      <td>0.0</td>\n",
       "      <td>0.0</td>\n",
       "    </tr>\n",
       "    <tr>\n",
       "      <th>122</th>\n",
       "      <td>Hamilton</td>\n",
       "      <td>2020-05-02</td>\n",
       "      <td>17.5</td>\n",
       "      <td>3.4</td>\n",
       "      <td>10.5</td>\n",
       "      <td>0.5</td>\n",
       "      <td>0.5</td>\n",
       "      <td>0.0</td>\n",
       "      <td>0.0</td>\n",
       "    </tr>\n",
       "    <tr>\n",
       "      <th>123</th>\n",
       "      <td>Hamilton</td>\n",
       "      <td>2020-05-03</td>\n",
       "      <td>21.3</td>\n",
       "      <td>7.6</td>\n",
       "      <td>14.5</td>\n",
       "      <td>0.0</td>\n",
       "      <td>0.0</td>\n",
       "      <td>0.0</td>\n",
       "      <td>0.0</td>\n",
       "    </tr>\n",
       "    <tr>\n",
       "      <th>124</th>\n",
       "      <td>Hamilton</td>\n",
       "      <td>2020-05-04</td>\n",
       "      <td>11.4</td>\n",
       "      <td>1.3</td>\n",
       "      <td>6.4</td>\n",
       "      <td>0.0</td>\n",
       "      <td>0.0</td>\n",
       "      <td>0.0</td>\n",
       "      <td>0.0</td>\n",
       "    </tr>\n",
       "    <tr>\n",
       "      <th>125</th>\n",
       "      <td>Hamilton</td>\n",
       "      <td>2020-05-05</td>\n",
       "      <td>11.3</td>\n",
       "      <td>-1.3</td>\n",
       "      <td>5.0</td>\n",
       "      <td>0.0</td>\n",
       "      <td>0.0</td>\n",
       "      <td>0.0</td>\n",
       "      <td>0.0</td>\n",
       "    </tr>\n",
       "    <tr>\n",
       "      <th>...</th>\n",
       "      <td>...</td>\n",
       "      <td>...</td>\n",
       "      <td>...</td>\n",
       "      <td>...</td>\n",
       "      <td>...</td>\n",
       "      <td>...</td>\n",
       "      <td>...</td>\n",
       "      <td>...</td>\n",
       "      <td>...</td>\n",
       "    </tr>\n",
       "    <tr>\n",
       "      <th>1825</th>\n",
       "      <td>Waterloo</td>\n",
       "      <td>2020-12-27</td>\n",
       "      <td>2.6</td>\n",
       "      <td>-4.5</td>\n",
       "      <td>-1.0</td>\n",
       "      <td>2.1</td>\n",
       "      <td>0.0</td>\n",
       "      <td>0.0</td>\n",
       "      <td>0.0</td>\n",
       "    </tr>\n",
       "    <tr>\n",
       "      <th>1826</th>\n",
       "      <td>Waterloo</td>\n",
       "      <td>2020-12-28</td>\n",
       "      <td>3.6</td>\n",
       "      <td>-4.2</td>\n",
       "      <td>-0.3</td>\n",
       "      <td>7.5</td>\n",
       "      <td>0.0</td>\n",
       "      <td>0.0</td>\n",
       "      <td>0.0</td>\n",
       "    </tr>\n",
       "    <tr>\n",
       "      <th>1827</th>\n",
       "      <td>Waterloo</td>\n",
       "      <td>2020-12-29</td>\n",
       "      <td>-3.6</td>\n",
       "      <td>-11.5</td>\n",
       "      <td>-7.6</td>\n",
       "      <td>7.5</td>\n",
       "      <td>0.0</td>\n",
       "      <td>0.0</td>\n",
       "      <td>0.0</td>\n",
       "    </tr>\n",
       "    <tr>\n",
       "      <th>1828</th>\n",
       "      <td>Waterloo</td>\n",
       "      <td>2020-12-30</td>\n",
       "      <td>3.7</td>\n",
       "      <td>-6.5</td>\n",
       "      <td>-1.4</td>\n",
       "      <td>10.0</td>\n",
       "      <td>0.0</td>\n",
       "      <td>0.0</td>\n",
       "      <td>0.0</td>\n",
       "    </tr>\n",
       "    <tr>\n",
       "      <th>1829</th>\n",
       "      <td>Waterloo</td>\n",
       "      <td>2020-12-31</td>\n",
       "      <td>-0.4</td>\n",
       "      <td>-8.4</td>\n",
       "      <td>-4.4</td>\n",
       "      <td>0.0</td>\n",
       "      <td>0.0</td>\n",
       "      <td>0.0</td>\n",
       "      <td>0.0</td>\n",
       "    </tr>\n",
       "  </tbody>\n",
       "</table>\n",
       "<p>1225 rows × 9 columns</p>\n",
       "</div>"
      ],
      "text/plain": [
       "     Station Name   Date/Time  Max Temp (°C)  Min Temp (°C)  Mean Temp (°C)  \\\n",
       "121      Hamilton  2020-05-01           16.2            7.1            11.7   \n",
       "122      Hamilton  2020-05-02           17.5            3.4            10.5   \n",
       "123      Hamilton  2020-05-03           21.3            7.6            14.5   \n",
       "124      Hamilton  2020-05-04           11.4            1.3             6.4   \n",
       "125      Hamilton  2020-05-05           11.3           -1.3             5.0   \n",
       "...           ...         ...            ...            ...             ...   \n",
       "1825     Waterloo  2020-12-27            2.6           -4.5            -1.0   \n",
       "1826     Waterloo  2020-12-28            3.6           -4.2            -0.3   \n",
       "1827     Waterloo  2020-12-29           -3.6          -11.5            -7.6   \n",
       "1828     Waterloo  2020-12-30            3.7           -6.5            -1.4   \n",
       "1829     Waterloo  2020-12-31           -0.4           -8.4            -4.4   \n",
       "\n",
       "      Total Precip (mm)  Total Rain (mm)  Total Snow (cm)  Snow on Grnd (cm)  \n",
       "121                 0.8              0.8              0.0                0.0  \n",
       "122                 0.5              0.5              0.0                0.0  \n",
       "123                 0.0              0.0              0.0                0.0  \n",
       "124                 0.0              0.0              0.0                0.0  \n",
       "125                 0.0              0.0              0.0                0.0  \n",
       "...                 ...              ...              ...                ...  \n",
       "1825                2.1              0.0              0.0                0.0  \n",
       "1826                7.5              0.0              0.0                0.0  \n",
       "1827                7.5              0.0              0.0                0.0  \n",
       "1828               10.0              0.0              0.0                0.0  \n",
       "1829                0.0              0.0              0.0                0.0  \n",
       "\n",
       "[1225 rows x 9 columns]"
      ]
     },
     "execution_count": 135,
     "metadata": {},
     "output_type": "execute_result"
    }
   ],
   "source": [
    "union[(union['Date/Time'] >= '2020-05-01') ]"
   ]
  },
  {
   "cell_type": "code",
   "execution_count": null,
   "metadata": {},
   "outputs": [],
   "source": []
  }
 ],
 "metadata": {
  "kernelspec": {
   "display_name": "Python 3",
   "language": "python",
   "name": "python3"
  },
  "language_info": {
   "codemirror_mode": {
    "name": "ipython",
    "version": 3
   },
   "file_extension": ".py",
   "mimetype": "text/x-python",
   "name": "python",
   "nbconvert_exporter": "python",
   "pygments_lexer": "ipython3",
   "version": "3.7.9"
  }
 },
 "nbformat": 4,
 "nbformat_minor": 4
}
